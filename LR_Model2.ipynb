{
  "nbformat": 4,
  "nbformat_minor": 0,
  "metadata": {
    "colab": {
      "provenance": []
    },
    "kernelspec": {
      "name": "python3",
      "display_name": "Python 3"
    },
    "language_info": {
      "name": "python"
    }
  },
  "cells": [
    {
      "cell_type": "code",
      "execution_count": null,
      "metadata": {
        "id": "627piEXJEQle"
      },
      "outputs": [],
      "source": [
        "#Linear Regression - Model 2(Creating our own data)"
      ]
    },
    {
      "cell_type": "code",
      "source": [
        "# 1.\n",
        "import numpy as np\n",
        "experience = np.arange(1,11) #numbers from 1 to 11\n",
        "np.random.seed(35) #random.seed is used to keep the values constant\n",
        "salary = np.random.randint(20000,100000,10)\n",
        "salary = np.sort(salary)\n",
        "print(experience)\n",
        "print(salary)"
      ],
      "metadata": {
        "colab": {
          "base_uri": "https://localhost:8080/"
        },
        "id": "6yeFY1gBFGgw",
        "outputId": "67d6c42d-9b69-44b4-af04-719f3fa68f67"
      },
      "execution_count": null,
      "outputs": [
        {
          "output_type": "stream",
          "name": "stdout",
          "text": [
            "[ 1  2  3  4  5  6  7  8  9 10]\n",
            "[32472 39705 55560 61911 68161 76300 85502 91369 94935 99499]\n"
          ]
        }
      ]
    },
    {
      "cell_type": "code",
      "source": [
        "type(experience)"
      ],
      "metadata": {
        "colab": {
          "base_uri": "https://localhost:8080/"
        },
        "id": "vgZgBh5lFvZk",
        "outputId": "f47966db-776d-422f-ecbc-e164b4000a49"
      },
      "execution_count": null,
      "outputs": [
        {
          "output_type": "execute_result",
          "data": {
            "text/plain": [
              "numpy.ndarray"
            ]
          },
          "metadata": {},
          "execution_count": 4
        }
      ]
    },
    {
      "cell_type": "code",
      "source": [
        "type(salary)"
      ],
      "metadata": {
        "colab": {
          "base_uri": "https://localhost:8080/"
        },
        "id": "5TZzaHQxGmXK",
        "outputId": "8607b5e0-6f43-4dea-a5b4-2348c2ec1c1e"
      },
      "execution_count": null,
      "outputs": [
        {
          "output_type": "execute_result",
          "data": {
            "text/plain": [
              "numpy.ndarray"
            ]
          },
          "metadata": {},
          "execution_count": 5
        }
      ]
    },
    {
      "cell_type": "code",
      "source": [
        "# 2. Due to limited data step two is skipped"
      ],
      "metadata": {
        "id": "oipar03hGoZ6"
      },
      "execution_count": null,
      "outputs": []
    },
    {
      "cell_type": "code",
      "source": [
        "# 3.Visualization\n",
        "import matplotlib.pyplot as plt\n",
        "plt.scatter(experience,salary) #plt.scatter(x-axis,y-axis)"
      ],
      "metadata": {
        "colab": {
          "base_uri": "https://localhost:8080/",
          "height": 282
        },
        "id": "_HsSE-XfG3wh",
        "outputId": "575c30f1-e11d-48a7-ece7-caf101c78bd2"
      },
      "execution_count": null,
      "outputs": [
        {
          "output_type": "execute_result",
          "data": {
            "text/plain": [
              "<matplotlib.collections.PathCollection at 0x7f31bbdaf150>"
            ]
          },
          "metadata": {},
          "execution_count": 7
        },
        {
          "output_type": "display_data",
          "data": {
            "text/plain": [
              "<Figure size 432x288 with 1 Axes>"
            ],
            "image/png": "[encoded data removed]"
          },
          "metadata": {
            "needs_background": "light"
          }
        }
      ]
    },
    {
      "cell_type": "code",
      "source": [
        "# 4.Divide data into input and output\n",
        "#input - 2-dimentional\n",
        "x = experience.reshape(-1,1)\n",
        "x"
      ],
      "metadata": {
        "colab": {
          "base_uri": "https://localhost:8080/"
        },
        "id": "aT1ziUchHDGo",
        "outputId": "bbb28a63-22a1-4aba-e568-64ddbd4a2a63"
      },
      "execution_count": null,
      "outputs": [
        {
          "output_type": "execute_result",
          "data": {
            "text/plain": [
              "array([[ 1],\n",
              "       [ 2],\n",
              "       [ 3],\n",
              "       [ 4],\n",
              "       [ 5],\n",
              "       [ 6],\n",
              "       [ 7],\n",
              "       [ 8],\n",
              "       [ 9],\n",
              "       [10]])"
            ]
          },
          "metadata": {},
          "execution_count": 8
        }
      ]
    },
    {
      "cell_type": "code",
      "source": [
        "x.ndim"
      ],
      "metadata": {
        "colab": {
          "base_uri": "https://localhost:8080/"
        },
        "id": "ABhIVUYfHc0c",
        "outputId": "af3f0668-5d46-429f-9963-2a7b753359eb"
      },
      "execution_count": null,
      "outputs": [
        {
          "output_type": "execute_result",
          "data": {
            "text/plain": [
              "2"
            ]
          },
          "metadata": {},
          "execution_count": 9
        }
      ]
    },
    {
      "cell_type": "code",
      "source": [
        "y = salary\n",
        "y"
      ],
      "metadata": {
        "colab": {
          "base_uri": "https://localhost:8080/"
        },
        "id": "c1phSmhrHtv8",
        "outputId": "bec15db2-98de-4165-cd29-2fd3418c20d2"
      },
      "execution_count": null,
      "outputs": [
        {
          "output_type": "execute_result",
          "data": {
            "text/plain": [
              "array([32472, 39705, 55560, 61911, 68161, 76300, 85502, 91369, 94935,\n",
              "       99499])"
            ]
          },
          "metadata": {},
          "execution_count": 10
        }
      ]
    },
    {
      "cell_type": "code",
      "source": [
        "# 5. Step 5 and 6 are skipped due to limited data"
      ],
      "metadata": {
        "id": "-G6_4GheHz6z"
      },
      "execution_count": null,
      "outputs": []
    },
    {
      "cell_type": "code",
      "source": [
        "# 7.Run a classifier,  regressor or clusterer\n",
        "from sklearn.linear_model import LinearRegression\n",
        "model = LinearRegression()"
      ],
      "metadata": {
        "id": "8moGaWI4IIMg"
      },
      "execution_count": null,
      "outputs": []
    },
    {
      "cell_type": "code",
      "source": [
        "# 8.Fit the model\n",
        "# LinearRegression.fit(x, y)\n",
        "model.fit(x, y)\n",
        "# We are plotting /mapping the values x and y insists the LinearRegression Library"
      ],
      "metadata": {
        "colab": {
          "base_uri": "https://localhost:8080/"
        },
        "id": "Cih4IJDMIWrY",
        "outputId": "430d1867-f2be-4c60-f053-831e01fe8a11"
      },
      "execution_count": null,
      "outputs": [
        {
          "output_type": "execute_result",
          "data": {
            "text/plain": [
              "LinearRegression()"
            ]
          },
          "metadata": {},
          "execution_count": 13
        }
      ]
    },
    {
      "cell_type": "code",
      "source": [
        "# 9. Predict the output\n",
        "y_pred = model.predict(x)\n",
        "y_pred #Predicted Output values"
      ],
      "metadata": {
        "id": "IZYPE2dfIzvk",
        "colab": {
          "base_uri": "https://localhost:8080/"
        },
        "outputId": "d8e37afe-f564-4968-b741-0cded77c23d8"
      },
      "execution_count": null,
      "outputs": [
        {
          "output_type": "execute_result",
          "data": {
            "text/plain": [
              "array([ 36510.21818182,  44072.7030303 ,  51635.18787879,  59197.67272727,\n",
              "        66760.15757576,  74322.64242424,  81885.12727273,  89447.61212121,\n",
              "        97010.0969697 , 104572.58181818])"
            ]
          },
          "metadata": {},
          "execution_count": 14
        }
      ]
    },
    {
      "cell_type": "code",
      "source": [
        "y #Actual output values"
      ],
      "metadata": {
        "id": "qW23Wb28JG0e",
        "colab": {
          "base_uri": "https://localhost:8080/"
        },
        "outputId": "56bc4968-225c-4568-8ce4-66f2dcc48e48"
      },
      "execution_count": null,
      "outputs": [
        {
          "output_type": "execute_result",
          "data": {
            "text/plain": [
              "array([32472, 39705, 55560, 61911, 68161, 76300, 85502, 91369, 94935,\n",
              "       99499])"
            ]
          },
          "metadata": {},
          "execution_count": 16
        }
      ]
    },
    {
      "cell_type": "code",
      "source": [
        "# INdividual Prediction\n",
        "model.predict([[2.5]]) #To know the approx. salary for 2.5 years"
      ],
      "metadata": {
        "colab": {
          "base_uri": "https://localhost:8080/"
        },
        "id": "scW-Hzb5BCId",
        "outputId": "6f2b5168-bc6f-4575-c149-cdf63e2c5fc7"
      },
      "execution_count": null,
      "outputs": [
        {
          "output_type": "execute_result",
          "data": {
            "text/plain": [
              "array([47853.94545455])"
            ]
          },
          "metadata": {},
          "execution_count": 17
        }
      ]
    },
    {
      "cell_type": "code",
      "source": [
        "#Cross Verification Technique\n",
        "m = model.coef_\n",
        "c = model.intercept_\n",
        "print(m)\n",
        "print(c)"
      ],
      "metadata": {
        "colab": {
          "base_uri": "https://localhost:8080/"
        },
        "id": "U-B4bpRRBmQb",
        "outputId": "dc089ee3-4c85-47a7-fe32-409b72e9c3a0"
      },
      "execution_count": null,
      "outputs": [
        {
          "output_type": "stream",
          "name": "stdout",
          "text": [
            "[7562.48484848]\n",
            "28947.73333333333\n"
          ]
        }
      ]
    },
    {
      "cell_type": "code",
      "source": [
        "# y = mx + c\n",
        "m * 2.5 +c"
      ],
      "metadata": {
        "colab": {
          "base_uri": "https://localhost:8080/"
        },
        "id": "j2tEBPvYB1-l",
        "outputId": "bb9f669e-2621-4729-abc2-e21607b6f062"
      },
      "execution_count": null,
      "outputs": [
        {
          "output_type": "execute_result",
          "data": {
            "text/plain": [
              "array([47853.94545455])"
            ]
          },
          "metadata": {},
          "execution_count": 19
        }
      ]
    },
    {
      "cell_type": "code",
      "source": [
        "#Visualization for the best fit line\n",
        "import matplotlib.pyplot as plt\n",
        "plt.scatter(x,y)\n",
        "plt.plot(x,y_pred,c = 'olive')\n",
        "plt.title('Salary vs YearsExperience')\n",
        "plt.xlabel('YearsExperience')\n",
        "plt.ylabel('Salary')"
      ],
      "metadata": {
        "colab": {
          "base_uri": "https://localhost:8080/",
          "height": 312
        },
        "id": "8pLcJWbQCDnu",
        "outputId": "77bd775e-1f37-4752-ecfc-5e1e9abd7578"
      },
      "execution_count": null,
      "outputs": [
        {
          "output_type": "execute_result",
          "data": {
            "text/plain": [
              "Text(0, 0.5, 'Salary')"
            ]
          },
          "metadata": {},
          "execution_count": 22
        },
        {
          "output_type": "display_data",
          "data": {
            "text/plain": [
              "<Figure size 432x288 with 1 Axes>"
            ],
            "image/png": "[encoded data removed]"
          },
          "metadata": {
            "needs_background": "light"
          }
        }
      ]
    },
    {
      "cell_type": "code",
      "source": [
        "# Scaling or Normalization\n",
        "# 1.Before Normalizaton\n",
        "import numpy as np\n",
        "import matplotlib.pyplot as plt\n",
        "np.random.seed(0) #To keep the values constant\n",
        "x1 = np.random.randint(1,50,30)\n",
        "x1 = np.sort(x1) #It sorts the array in asce\n",
        "x2 = np.random.randint(10000,70000,30)\n",
        "plt.plot(x1,x2)"
      ],
      "metadata": {
        "colab": {
          "base_uri": "https://localhost:8080/",
          "height": 283
        },
        "id": "1G1_CsyGCgnQ",
        "outputId": "7f333c09-693d-454b-ad22-6a8ab51a30c1"
      },
      "execution_count": null,
      "outputs": [
        {
          "output_type": "execute_result",
          "data": {
            "text/plain": [
              "[<matplotlib.lines.Line2D at 0x7f31a7e7ba90>]"
            ]
          },
          "metadata": {},
          "execution_count": 30
        },
        {
          "output_type": "display_data",
          "data": {
            "text/plain": [
              "<Figure size 432x288 with 1 Axes>"
            ],
            "image/png": "[encoded data removed]"
          },
          "metadata": {
            "needs_background": "light"
          }
        }
      ]
    },
    {
      "cell_type": "code",
      "source": [
        "#These graphs are nowhere related to ML or Normalization\n",
        "#Here we can understand the concept of Scaling and Normalization\n",
        "\n",
        "#2.After Normalization\n",
        "x1min = min(x1)\n",
        "x1max = max(x1)\n",
        "x2min = min(x2)\n",
        "x2max = max(x2)\n",
        "x1norm = (x1 - x1min)/(x1max - x1min)\n",
        "x2norm = (x2 - x2min)/(x2max - x2min)\n",
        "plt.plot(x1norm,x2norm)"
      ],
      "metadata": {
        "colab": {
          "base_uri": "https://localhost:8080/",
          "height": 282
        },
        "id": "bqG-8BWdFLG3",
        "outputId": "45ce7108-f33c-42c6-f87a-7c26910735d0"
      },
      "execution_count": null,
      "outputs": [
        {
          "output_type": "execute_result",
          "data": {
            "text/plain": [
              "[<matplotlib.lines.Line2D at 0x7f31a7deaa90>]"
            ]
          },
          "metadata": {},
          "execution_count": 31
        },
        {
          "output_type": "display_data",
          "data": {
            "text/plain": [
              "<Figure size 432x288 with 1 Axes>"
            ],
            "image/png": "[encoded data removed]"
          },
          "metadata": {
            "needs_background": "light"
          }
        }
      ]
    },
    {
      "cell_type": "code",
      "source": [],
      "metadata": {
        "id": "kD2abmR0GjD6"
      },
      "execution_count": null,
      "outputs": []
    }
  ]
}